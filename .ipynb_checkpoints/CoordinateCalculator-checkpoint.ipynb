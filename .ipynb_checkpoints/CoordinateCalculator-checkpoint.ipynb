{
 "cells": [
  {
   "cell_type": "markdown",
   "id": "1b31be22",
   "metadata": {},
   "source": [
    "# Geographic Coordinate Converter\n",
    "\n",
    "Converts a geographic coordinate in DDMMSS format to DD"
   ]
  },
  {
   "cell_type": "markdown",
   "id": "220c42ad",
   "metadata": {},
   "source": [
    "Step 1 - Use the Python input function to prompt a user to enter a geographic coordinate in DDMMSS format (e.g., 391120)."
   ]
  },
  {
   "cell_type": "code",
   "execution_count": 1,
   "id": "16f5440b",
   "metadata": {},
   "outputs": [
    {
     "name": "stdout",
     "output_type": "stream",
     "text": [
      "Please enter a coordinate in DDMMSS format: 171125\n"
     ]
    }
   ],
   "source": [
    "x = input(\"Please enter a coordinate in DDMMSS format: \")"
   ]
  },
  {
   "cell_type": "markdown",
   "id": "50c7e956",
   "metadata": {},
   "source": [
    "Step 2 - Determine the data type of x and print its value before moving forward."
   ]
  },
  {
   "cell_type": "code",
   "execution_count": 2,
   "id": "2a5030b7",
   "metadata": {},
   "outputs": [
    {
     "data": {
      "text/plain": [
       "str"
      ]
     },
     "execution_count": 2,
     "metadata": {},
     "output_type": "execute_result"
    }
   ],
   "source": [
    "type(x)"
   ]
  },
  {
   "cell_type": "code",
   "execution_count": 3,
   "id": "98e7e8fb",
   "metadata": {},
   "outputs": [
    {
     "name": "stdout",
     "output_type": "stream",
     "text": [
      "171125\n"
     ]
    }
   ],
   "source": [
    "print(x)"
   ]
  },
  {
   "cell_type": "code",
   "execution_count": 8,
   "id": "b50ca605",
   "metadata": {},
   "outputs": [
    {
     "name": "stdout",
     "output_type": "stream",
     "text": [
      "Your final result is: 17.19 degrees\n"
     ]
    }
   ],
   "source": [
    "# Extract degrees, minutes, seconds from the input\n",
    "degrees = int(x[:2])\n",
    "#print(degrees)\n",
    "minutes = int(x[2:4])\n",
    "#print(decimals)\n",
    "seconds = int(x[4:])\n",
    "#print(seconds)\n",
    "\n",
    "# Convert to decimal degrees \n",
    "decimal_degrees = degrees + (minutes/60) + (seconds/3600)\n",
    "\n",
    "# Printing the final result in degrees\n",
    "print(f\"Your final result is: {decimal_degrees:.2f} degrees\" )"
   ]
  },
  {
   "cell_type": "code",
   "execution_count": 9,
   "id": "b287db5c",
   "metadata": {},
   "outputs": [
    {
     "name": "stdout",
     "output_type": "stream",
     "text": [
      "Your final result is: 17.19 degrees\n"
     ]
    }
   ],
   "source": [
    "# Rounding up value of degrees into two decimal places using a builtin function in Python\n",
    "\n",
    "rounded_degrees = round(decimal_degrees, 2)\n",
    "\n",
    "print(f\"Your final result is: {rounded_degrees} degrees\")"
   ]
  },
  {
   "cell_type": "code",
   "execution_count": null,
   "id": "989310af",
   "metadata": {},
   "outputs": [],
   "source": []
  }
 ],
 "metadata": {
  "kernelspec": {
   "display_name": "Python 3 (ipykernel)",
   "language": "python",
   "name": "python3"
  },
  "language_info": {
   "codemirror_mode": {
    "name": "ipython",
    "version": 3
   },
   "file_extension": ".py",
   "mimetype": "text/x-python",
   "name": "python",
   "nbconvert_exporter": "python",
   "pygments_lexer": "ipython3",
   "version": "3.9.16"
  }
 },
 "nbformat": 4,
 "nbformat_minor": 5
}
